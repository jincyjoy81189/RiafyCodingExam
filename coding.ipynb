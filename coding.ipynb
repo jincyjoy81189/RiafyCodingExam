{
 "cells": [
  {
   "cell_type": "code",
   "execution_count": 3,
   "metadata": {},
   "outputs": [
    {
     "name": "stdout",
     "output_type": "stream",
     "text": [
      "he : 2\n",
      "once : 1\n",
      "thought : 1\n",
      "it : 2\n",
      "himself : 1\n",
      ", : 9\n",
      "that : 2\n",
      "might : 1\n",
      "die : 1\n",
      "with : 1\n",
      "grief : 1\n",
      ": : 1\n",
      "for : 1\n",
      "his : 4\n",
      "wife : 1\n",
      "daughters : 1\n",
      "sisters : 1\n",
      "father : 1\n",
      "and : 4\n",
      "master : 1\n",
      "the : 1\n",
      "cardinal. : 1\n",
      "but : 2\n",
      "pulse, : 1\n",
      "obdurate, : 1\n",
      "keeps : 1\n",
      "its : 1\n",
      "rhythm. : 1\n",
      "you : 5\n",
      "think : 1\n",
      "cannot : 1\n",
      "keep : 1\n",
      "breathing : 1\n",
      "your : 2\n",
      "ribcage : 1\n",
      "has : 1\n",
      "other : 1\n",
      "ideas : 1\n",
      "rising : 1\n",
      "falling : 1\n",
      "emitting : 1\n",
      "sighs. : 1\n",
      "must : 1\n",
      "thrive : 1\n",
      "in : 1\n",
      "spite : 1\n",
      "of : 3\n",
      "yourself : 1\n",
      "; : 1\n",
      "so : 1\n",
      "may : 1\n",
      "do : 1\n",
      "god : 1\n",
      "takes : 1\n",
      "out : 1\n",
      "heart : 2\n",
      "flesh : 1\n",
      "gives : 1\n",
      "a : 1\n",
      "stone. : 1\n"
     ]
    }
   ],
   "source": [
    "text = open(\"input.txt\", \"r\")\n",
    "d = dict()\n",
    "for line in text:\n",
    "    line = line.strip()\n",
    "    line = line.lower()\n",
    "    words = line.split(\" \")\n",
    "    for word in words:\n",
    "        if word in d:\n",
    "            d[word] = d[word] + 1\n",
    "        else:\n",
    "            d[word] = 1\n",
    "for key in list(d.keys()):\n",
    "    print(key, \":\", d[key])"
   ]
  },
  {
   "cell_type": "code",
   "execution_count": 9,
   "metadata": {},
   "outputs": [
    {
     "name": "stdout",
     "output_type": "stream",
     "text": [
      "18\n"
     ]
    }
   ],
   "source": [
    "def countOccurrences(array, n, x):\n",
    "    res = 0\n",
    "    for i in range(n):\n",
    "        if x == array[i]:\n",
    "            res += 1\n",
    "    return res\n",
    "array = [[[8,2,5,5,9],[3,8,1,1,0],[6,1,1,9,0],[6,3,1,6,1],[1,2,9,8,8]],[[3,5,5,7,6],[1,4,1,7,7],[0,9,4,9,6],[6,1,5,3,5],[5,8,3,8,6]],[[4,3,0,8,5],[1,9,4,2,5],[1,7,4,2,0],[8,3,6,4,5],[3,5,0,5,4]],[[2,6,9,0,1],[5,9,6,3,7],[2,2,4,3,9],[4,9,7,6,4],[1,5,3,5,5]],[[8,1,2,3,5],[2,6,7,8,5],[7,3,7,1,3],[3,1,5,7,7],[2,8,3,2,9]]]\n",
    "n = len(array)\n",
    "x = 5\n",
    "print (countOccurrences(array, n, x))"
   ]
  },
  {
   "cell_type": "code",
   "execution_count": null,
   "metadata": {},
   "outputs": [],
   "source": []
  }
 ],
 "metadata": {
  "kernelspec": {
   "display_name": "Python 3",
   "language": "python",
   "name": "python3"
  },
  "language_info": {
   "codemirror_mode": {
    "name": "ipython",
    "version": 3
   },
   "file_extension": ".py",
   "mimetype": "text/x-python",
   "name": "python",
   "nbconvert_exporter": "python",
   "pygments_lexer": "ipython3",
   "version": "3.8.1"
  }
 },
 "nbformat": 4,
 "nbformat_minor": 4
}
